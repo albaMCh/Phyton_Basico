{
  "nbformat": 4,
  "nbformat_minor": 0,
  "metadata": {
    "colab": {
      "provenance": [],
      "include_colab_link": true
    },
    "kernelspec": {
      "name": "python3",
      "display_name": "Python 3"
    },
    "language_info": {
      "name": "python"
    }
  },
  "cells": [
    {
      "cell_type": "markdown",
      "metadata": {
        "id": "view-in-github",
        "colab_type": "text"
      },
      "source": [
        "<a href=\"https://colab.research.google.com/github/albaMCh/Python/blob/main/Ejercicio_de_Cara_cruz.ipynb\" target=\"_parent\"><img src=\"https://colab.research.google.com/assets/colab-badge.svg\" alt=\"Open In Colab\"/></a>"
      ]
    },
    {
      "cell_type": "markdown",
      "source": [
        "#Proyecto final introducción a Python\n",
        "\n",
        "Enhorabuena, si has llegado hasta aquí significa que has superado todos los módulos del curso. Antes de obtener tu certificado vamos a comprobar que hayas adquirido los conocimientos necesarios para avanzar. ¿Preparado para enfrentarte a tu primer proyecto final? ¡Seguro que sí!."
      ],
      "metadata": {
        "id": "zaprHaJdh7er"
      }
    },
    {
      "cell_type": "markdown",
      "source": [
        "##Lanzamiento de moneda simple \n",
        "\n",
        "Simula el lanzamiento de una moneda en la función es_cara.\n",
        "Asignaremos '+' para la cara de la moneda y '-' para la cruz de la moneda.\n",
        "Utiliza random.choice(['lista de posibilidades']) para que la función devuelva aleatoriamente '+' o '-'.\n",
        "\n",
        "Entrada\n",
        "\n",
        "      es_cara()\n",
        "\n",
        "Salida posible 1\n",
        "\n",
        "      '+'\n",
        "\n",
        "Salida posible 2\n",
        "\n",
        "      '-'\n"
      ],
      "metadata": {
        "id": "SzqbYMpJTYQ_"
      }
    },
    {
      "cell_type": "code",
      "source": [
        "\n",
        "import random\n",
        "\n",
        "#Define la función es_cara y sus parámetros si fueran necesarios.\n",
        "\n",
        "def es_cara():\n",
        "  num = random.randint(1,2)\n",
        "  if num ==1:\n",
        "   coin = \"+\"\n",
        "  elif num==2:\n",
        "   coin =\"-\"\n",
        "  return coin\n",
        "\n",
        "\n",
        "print(es_cara())"
      ],
      "metadata": {
        "id": "gK98PmVDUQuL",
        "outputId": "353b3b37-d036-4330-fbe2-b15c6bec65f4",
        "colab": {
          "base_uri": "https://localhost:8080/"
        }
      },
      "execution_count": null,
      "outputs": [
        {
          "output_type": "stream",
          "name": "stdout",
          "text": [
            "+\n"
          ]
        }
      ]
    },
    {
      "cell_type": "code",
      "source": [
        "#@title Comprueba la función es_cara\n",
        "coin=es_cara()\n",
        "def check():\n",
        "  if coin=='+' or coin=='-':\n",
        "    return 'Correcto'\n",
        "  else:\n",
        "    return 'Incorrecto'\n",
        "check()"
      ],
      "metadata": {
        "id": "qaybKIgiWC9C",
        "outputId": "3f4c6264-04d8-46d2-a851-e7547bdbc593",
        "colab": {
          "base_uri": "https://localhost:8080/",
          "height": 37
        }
      },
      "execution_count": null,
      "outputs": [
        {
          "output_type": "execute_result",
          "data": {
            "text/plain": [
              "'Correcto'"
            ],
            "application/vnd.google.colaboratory.intrinsic+json": {
              "type": "string"
            }
          },
          "metadata": {},
          "execution_count": 47
        }
      ]
    },
    {
      "cell_type": "markdown",
      "source": [
        "##Lanzamiento de moneda hasta obtener 3 caras o 3 cruces seguidas\n",
        "En la función lanzar_moneda() debes simular el lanzamiento de una moneda hasta que salga tres veces seguidas cara o tres veces seguidas cruz y devolverá la tirada\n",
        "\n",
        "Entrada\n",
        "\n",
        "      lanzar_moneda()\n",
        "\n",
        "Salida ejemplo\n",
        "\n",
        "      --+-+--- \n"
      ],
      "metadata": {
        "id": "SZ8D5FHBRvAm"
      }
    },
    {
      "cell_type": "code",
      "execution_count": null,
      "metadata": {
        "id": "a4lRQskORorR",
        "colab": {
          "base_uri": "https://localhost:8080/"
        },
        "outputId": "a4506ab6-7056-466d-c234-69b11d98d8ee"
      },
      "outputs": [
        {
          "output_type": "stream",
          "name": "stdout",
          "text": [
            "+--+++\n"
          ]
        }
      ],
      "source": [
        "import random\n",
        "#Define la función lanzar_moneda y sus parámetros si fueran necesarios.\n",
        "\n",
        "def lanzar_moneda():\n",
        " option = [\"+\", \"-\"]\n",
        " vueltas = ''\n",
        " while True:\n",
        "  vuelta = random.choice(option)\n",
        "  vueltas = vueltas + vuelta\n",
        "  if len(vueltas) >= 3:\n",
        "    if (vueltas[-3] == vueltas [-2] == vueltas [-1]):\n",
        "      break\n",
        "    else:\n",
        "      continue\n",
        " return vueltas\n",
        "\n",
        "print(lanzar_moneda())"
      ]
    },
    {
      "cell_type": "code",
      "source": [
        "#@title Comprueba la función lanzar_moneda\n",
        "def check2():\n",
        "  coin2=lanzar_moneda()\n",
        "  if coin2[-3:]=='+++' or coin2[-3:]=='---':\n",
        "    return 'Correcto'\n",
        "  else:\n",
        "    return 'Incorrecto'\n",
        "check2()"
      ],
      "metadata": {
        "id": "P_N_FoPNa0Hb",
        "cellView": "form",
        "colab": {
          "base_uri": "https://localhost:8080/",
          "height": 37
        },
        "outputId": "77580051-1292-4eb7-bfb8-6ccac9a6c0e5"
      },
      "execution_count": null,
      "outputs": [
        {
          "output_type": "execute_result",
          "data": {
            "text/plain": [
              "'Correcto'"
            ],
            "application/vnd.google.colaboratory.intrinsic+json": {
              "type": "string"
            }
          },
          "metadata": {},
          "execution_count": 52
        }
      ]
    },
    {
      "cell_type": "markdown",
      "source": [
        "## ¿Cuantas tiradas son necesarias de media para conseguir 3 veces seguidas cara o cruz n veces?\n",
        "\n",
        "\n",
        "Crea la función n_lanzamientos que tome como parámetro el número de veces que se desea obtener 3 veces cara o 3 veces cruz. \n",
        "\n",
        "La función debe:\n",
        "* Lanzar la moneda hasta conseguir 3 caras o 3 cruces tantas veces como el número introducido por parámetro.\n",
        "* Mostrar las tiradas realizadas y la media de tiradas necesarias para obtener 3 caras o crices.\n",
        "* Devolver una lista con el número de tiradas realizada en cada uno de los intentos.\n",
        "\n",
        "Ejemplo\n",
        "\n",
        "      n_lanzamientos (5)\n",
        "\n",
        "Salida\n",
        "\n",
        "      --++-+-+++\n",
        "      +--+---\n",
        "      +--+---\n",
        "      +---\n",
        "      -+++\n",
        "      6.4\n",
        "      [10, 7, 7, 4, 4]\n",
        "\n",
        "Recuerda que la función solo debe devolver la lista."
      ],
      "metadata": {
        "id": "GYDcgBt4Th-9"
      }
    },
    {
      "cell_type": "code",
      "source": [
        "import math\n",
        "import random\n",
        "\n",
        "def lanzar_moneda():\n",
        " option = [\"+\", \"-\"]\n",
        " vueltas = ''\n",
        " times = 0\n",
        " while True:\n",
        "  vuelta = random.choice(option)\n",
        "  vueltas = vueltas + vuelta\n",
        "  times += 1\n",
        "  if len(vueltas) >= 3:\n",
        "    if (vueltas[-3] == vueltas [-2] == vueltas [-1]):\n",
        "      break\n",
        "    else:\n",
        "      continue\n",
        " return [vueltas, times]\n",
        "\n",
        "def n_lanzamientos(times):\n",
        "  i = 0\n",
        "  attempts = []\n",
        "  average = 0\n",
        "  while i < times: \n",
        "    aux = lanzar_moneda()\n",
        "    print(aux[0])\n",
        "    attempts.append(aux[1])\n",
        "    i += 1\n",
        "\n",
        "  for num in attempts:\n",
        "    average = average + num\n",
        "  \n",
        "  average = math.floor(average / len(attempts))\n",
        "  print(average)\n",
        "\n",
        "  return attempts\n",
        "\n",
        "n_lanzamientos(10)"
      ],
      "metadata": {
        "id": "zoWhZFy4TiX1",
        "colab": {
          "base_uri": "https://localhost:8080/"
        },
        "outputId": "073d0956-48b7-491a-be0f-11e79e632e31"
      },
      "execution_count": null,
      "outputs": [
        {
          "output_type": "stream",
          "name": "stdout",
          "text": [
            "+--+++\n",
            "-++-++-+---\n",
            "+-++--+++\n",
            "+---\n",
            "---\n",
            "-+-++-+++\n",
            "--+++\n",
            "---\n",
            "--+-+-+-++-+-+---\n",
            "+---\n",
            "7\n"
          ]
        },
        {
          "output_type": "execute_result",
          "data": {
            "text/plain": [
              "[6, 11, 9, 4, 3, 9, 5, 3, 17, 4]"
            ]
          },
          "metadata": {},
          "execution_count": 54
        }
      ]
    },
    {
      "cell_type": "code",
      "source": [
        "#@title Comprueba la función n_lanzamientos\n",
        "def check3():\n",
        "  coin3=n_lanzamientos(10)\n",
        "  tres_mas=[True for lanz in coin3 if lanz>=3]\n",
        "  if len(coin3)==10 and sum(tres_mas)==10:\n",
        "    return 'Correcto'\n",
        "  else:\n",
        "    return 'Incorrecto'\n",
        "check3()"
      ],
      "metadata": {
        "id": "66MoJleNb0Af",
        "colab": {
          "base_uri": "https://localhost:8080/",
          "height": 224
        },
        "outputId": "23ef2a44-8e75-4ca1-ea20-dcde63ec3e96"
      },
      "execution_count": null,
      "outputs": [
        {
          "output_type": "stream",
          "name": "stdout",
          "text": [
            "++---\n",
            "+---\n",
            "--+---\n",
            "---\n",
            "--++---\n",
            "-++-+++\n",
            "---\n",
            "+++\n",
            "++---\n",
            "+++\n",
            "4\n"
          ]
        },
        {
          "output_type": "execute_result",
          "data": {
            "text/plain": [
              "'Correcto'"
            ],
            "application/vnd.google.colaboratory.intrinsic+json": {
              "type": "string"
            }
          },
          "metadata": {},
          "execution_count": 55
        }
      ]
    },
    {
      "cell_type": "code",
      "source": [
        "#@title Consigue el token para corregir en Nodd3r\n",
        "\n",
        "import hashlib\n",
        "uno=check()\n",
        "dos=check2()\n",
        "tres=check3()\n",
        "pwd = hashlib.sha256(str(uno+dos+tres).encode())\n",
        "if pwd.hexdigest()[0:6] == '3d17f9':\n",
        "  print('¡Felicidades! puedes avanzar al siguiente modulo \\n El token es: ',pwd.hexdigest())\n",
        "else:\n",
        "  print('Hay algún error en el código o tu forma es diferente a la planteada, pregunta por el foro si no lo ves claro.')\n",
        "\n",
        "\n"
      ],
      "metadata": {
        "id": "L2ojBza4fYQ_",
        "colab": {
          "base_uri": "https://localhost:8080/"
        },
        "outputId": "104ce3ea-38a1-4341-8093-31dcd86dc77f"
      },
      "execution_count": null,
      "outputs": [
        {
          "output_type": "stream",
          "name": "stdout",
          "text": [
            "+-+++\n",
            "---\n",
            "-+-+++\n",
            "+++\n",
            "+---\n",
            "+--++--+---\n",
            "--+-+---\n",
            "--+++\n",
            "+++\n",
            "-+-+++\n",
            "5\n",
            "Hay algún error en el código o tu forma es diferente a la planteada, pregunta por el foro si no lo ves claro.\n"
          ]
        }
      ]
    }
  ]
}