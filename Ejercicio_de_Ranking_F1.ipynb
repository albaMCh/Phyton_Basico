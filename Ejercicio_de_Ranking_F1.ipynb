{
  "nbformat": 4,
  "nbformat_minor": 0,
  "metadata": {
    "colab": {
      "provenance": [],
      "include_colab_link": true
    },
    "kernelspec": {
      "name": "python3",
      "display_name": "Python 3"
    },
    "language_info": {
      "name": "python"
    }
  },
  "cells": [
    {
      "cell_type": "markdown",
      "metadata": {
        "id": "view-in-github",
        "colab_type": "text"
      },
      "source": [
        "<a href=\"https://colab.research.google.com/github/albaMCh/Phyton_Basico/blob/main/Ejercicio_de_Ranking_F1.ipynb\" target=\"_parent\"><img src=\"https://colab.research.google.com/assets/colab-badge.svg\" alt=\"Open In Colab\"/></a>"
      ]
    },
    {
      "cell_type": "markdown",
      "source": [
        " # **Proyecto final 2 Introducción a Python**\n",
        "\n",
        " En este proyecto vamos a crear un ranking para las pruebas contrareloj de las clasificaciones de fórmula 1.\n",
        "\n",
        "Al final debemos tener una función llamada clasificación que, introduciendole como parámetro un diccionario que contenga el nombre y apellidos de un piloto y el tiempo que ha tardado en completar 3 vueltas distintas, nos devuelva la clasificación de salida."
      ],
      "metadata": {
        "id": "HLkqJGLjkLEB"
      }
    },
    {
      "cell_type": "markdown",
      "source": [
        "#Crear el diccionario\n",
        "\n",
        "El diccionario llamado piloto_tiempos tendrá como clave el nombre del piloto y como valor una lista con sus 3 tiempos (los tiempos mostrarán los segundos por encima del minuto).\n",
        "\n",
        "Y deberá contener los siguientes datos:\n",
        "\n",
        "F. Alonso : 30.863, 30.595, 30.249]\n",
        "\n",
        "\n",
        "C. Sainz Jr. : [31.653, 30.009, 30.215]\n",
        "\n",
        "M. Verstappen : [30.499, 30.318, 28.997]\n",
        "\n",
        "\n"
      ],
      "metadata": {
        "id": "t7yDbRevl_nI"
      }
    },
    {
      "cell_type": "code",
      "execution_count": null,
      "metadata": {
        "id": "g_3yCOxikJ-z",
        "outputId": "ec962b0c-c0bc-4997-8a0b-ffdad415d9c1",
        "colab": {
          "base_uri": "https://localhost:8080/"
        }
      },
      "outputs": [
        {
          "output_type": "stream",
          "name": "stdout",
          "text": [
            "{'F. Alonso': [30.863, 30.595, 30.249], 'C. Sainz Jr.': [31.653, 30.009, 30.215], 'M. Verstappen': [30.499, 30.318, 28.997]}\n"
          ]
        }
      ],
      "source": [
        "#crea el diccionario piloto_tiempos\n",
        "piloto_tiempos = { 'F. Alonso' : [30.863, 30.595, 30.249],\n",
        "                  'C. Sainz Jr.' : [31.653, 30.009, 30.215], \n",
        "                  'M. Verstappen' : [30.499, 30.318, 28.997] }\n",
        "\n",
        "print(piloto_tiempos)"
      ]
    },
    {
      "cell_type": "code",
      "source": [
        "#@title Comprueba el diccionario piloto_tiempos\n",
        "def check():\n",
        "  if piloto_tiempos['F. Alonso']==[30.863, 30.595, 30.249] and piloto_tiempos['M. Verstappen']==[30.499,\t30.318,\t28.997]:\n",
        "    return 'Correcto'\n",
        "  else:\n",
        "    return 'Incorrecto'\n",
        "check()\n"
      ],
      "metadata": {
        "id": "tiVrM3EK1mMY",
        "outputId": "c18645e1-63bd-4ec5-fe25-8b220920ba7f",
        "colab": {
          "base_uri": "https://localhost:8080/",
          "height": 37
        }
      },
      "execution_count": null,
      "outputs": [
        {
          "output_type": "execute_result",
          "data": {
            "text/plain": [
              "'Correcto'"
            ],
            "application/vnd.google.colaboratory.intrinsic+json": {
              "type": "string"
            }
          },
          "metadata": {},
          "execution_count": 31
        }
      ]
    },
    {
      "cell_type": "markdown",
      "source": [
        "#Función agregar_piloto\n",
        "\n",
        "Una vez creado el diccionario e introducidos los 3 primeros pilotos crea la función agregar_piloto que, recibiendo un diccionario, un nombre de piloto y una lista de tiempos por parámetros; agrege ese piloto y sus tiempos al diccionario.\n",
        "\n"
      ],
      "metadata": {
        "id": "ZBZyBtAknzRf"
      }
    },
    {
      "cell_type": "code",
      "source": [
        "#Crea la función agregar piloto con sus parámetros necesarios\n",
        "\n",
        "def agregar_piloto(piloto_tiempos, piloto, tiempos):\n",
        "  piloto_tiempos[piloto] = tiempos \n",
        "  return piloto_tiempos\n",
        "\n",
        "agregar_piloto(piloto_tiempos,'L. Hamilton',[30.617,\t30.085,\t29.385])\n",
        "agregar_piloto(piloto_tiempos,'V. Bottas',[31.200,\t30.186,\t29.586])\n",
        "\n",
        "\n",
        "\n",
        "\n",
        "print(piloto_tiempos)"
      ],
      "metadata": {
        "id": "fGm5tr-6o1yj",
        "outputId": "e3910bdb-d984-45cc-d4f8-cd14c70a6699",
        "colab": {
          "base_uri": "https://localhost:8080/"
        }
      },
      "execution_count": null,
      "outputs": [
        {
          "output_type": "stream",
          "name": "stdout",
          "text": [
            "{'F. Alonso': [30.863, 30.595, 30.249], 'C. Sainz Jr.': [31.653, 30.009, 30.215], 'M. Verstappen': [30.499, 30.318, 28.997], 'L. Hamilton': [30.617, 30.085, 29.385], 'V. Bottas': [31.2, 30.186, 29.586]}\n"
          ]
        }
      ]
    },
    {
      "cell_type": "code",
      "source": [
        "#@title Comprueba la función agregar_piloto\n",
        "def check2():\n",
        "  try:\n",
        "    agregar_piloto(piloto_tiempos,'Charles Leclerc',[30.691, 30.010, 29.678])\n",
        "  except:\n",
        "    return 'Incorrecto'\n",
        "  else:\n",
        "    if len(piloto_tiempos)==6 and piloto_tiempos['Charles Leclerc']==[30.691, 30.01, 29.678]:\n",
        "      return 'Correcto'\n",
        "check2()"
      ],
      "metadata": {
        "id": "i2Y6NTuftvls",
        "outputId": "85ab29b1-63f5-4aed-9210-4b4ea73e62ed",
        "colab": {
          "base_uri": "https://localhost:8080/",
          "height": 37
        }
      },
      "execution_count": null,
      "outputs": [
        {
          "output_type": "execute_result",
          "data": {
            "text/plain": [
              "'Correcto'"
            ],
            "application/vnd.google.colaboratory.intrinsic+json": {
              "type": "string"
            }
          },
          "metadata": {},
          "execution_count": 33
        }
      ]
    },
    {
      "cell_type": "markdown",
      "source": [
        "##Función ranking\n",
        "\n",
        "La función ranking, recibiendo un diccionario como parámetro debe devolver una tupla que contenga la lista ordenada de vuelta más rápida a más lenta (cogeindo el mejor de sus 3 tiempos) con el nombre de los pilotosy otra lista con sus tiempos.\n",
        "\n",
        "Entrada\n",
        "\n",
        "      ranking(piloto_tiempos)\n",
        "\n",
        "\n",
        "Salida\n",
        "\n",
        "      (['M. Verstappen',\n",
        "      'L. Hamilton',\n",
        "      'V. Bottas',\n",
        "      'Charles Leclerc',\n",
        "      'C. Sainz Jr.',\n",
        "      'F.alonso'],\n",
        "    [28.997, 29.385, 29.586, 29.678, 30.009, 30.249])"
      ],
      "metadata": {
        "id": "9GNGEm2ur5-S"
      }
    },
    {
      "cell_type": "code",
      "source": [
        "#Crea la funcion ranking\n",
        "def mejor_tiempo(tiempos):\n",
        "  result = 0;\n",
        "  for tiempo in tiempos:\n",
        "    if result == 0 or tiempo < result:\n",
        "      result = tiempo\n",
        "  return result\n",
        "    \n",
        "def salida_formateada(mejor_tiempo):\n",
        "  pilotos = []\n",
        "  tiempos = []\n",
        "  \n",
        "  mejor_tiempo_invertido = dict((y, x) for x, y in mejor_tiempo.items())\n",
        "  \n",
        "  for tiempo in sorted(mejor_tiempo_invertido.keys()):\n",
        "    tiempos.append(tiempo)\n",
        "    pilotos.append(mejor_tiempo_invertido[tiempo])\n",
        "\n",
        "  return tuple([pilotos, tiempos])\n",
        "\n",
        "def ranking (piloto_tiempos):\n",
        "  mejor_tiempo_pilotos = {}\n",
        "  \n",
        "  for piloto in piloto_tiempos.keys():\n",
        "    tiempos = piloto_tiempos[piloto]\n",
        "    tiempo = mejor_tiempo(tiempos)\n",
        "    mejor_tiempo_pilotos[piloto] = tiempo\n",
        "    \n",
        "  return salida_formateada(mejor_tiempo_pilotos);\n",
        "\n",
        "print(ranking(piloto_tiempos))"
      ],
      "metadata": {
        "id": "G5k6k0cfr4nV",
        "colab": {
          "base_uri": "https://localhost:8080/"
        },
        "outputId": "29dc42c6-d691-489f-8444-f384032da427"
      },
      "execution_count": null,
      "outputs": [
        {
          "output_type": "stream",
          "name": "stdout",
          "text": [
            "(['M. Verstappen', 'L. Hamilton', 'V. Bottas', 'Charles Leclerc', 'C. Sainz Jr.', 'F. Alonso'], [28.997, 29.385, 29.586, 29.678, 30.009, 30.249])\n"
          ]
        }
      ]
    },
    {
      "cell_type": "code",
      "source": [
        "#@title Comprueba la función ranking\n",
        "pilot, record_time = ranking(piloto_tiempos)\n",
        "\n",
        "def check3():\n",
        "  if pilot==['M. Verstappen', 'L. Hamilton', 'V. Bottas',  'Charles Leclerc', 'C. Sainz Jr.', 'F. Alonso'] and record_time==[28.997, 29.385, 29.586, 29.678, 30.009, 30.249]:\n",
        "    return 'Correcto'\n",
        "  else:\n",
        "    return 'Incorrecto'\n",
        "\n",
        "check3()"
      ],
      "metadata": {
        "colab": {
          "base_uri": "https://localhost:8080/",
          "height": 37
        },
        "id": "9kqM_365yNNX",
        "outputId": "1e6bc8c7-b4a0-41da-e517-eb70ceccaad8"
      },
      "execution_count": null,
      "outputs": [
        {
          "output_type": "execute_result",
          "data": {
            "text/plain": [
              "'Correcto'"
            ],
            "application/vnd.google.colaboratory.intrinsic+json": {
              "type": "string"
            }
          },
          "metadata": {},
          "execution_count": 40
        }
      ]
    },
    {
      "cell_type": "code",
      "source": [
        "#@title Consigue tu Token para corregir en Nodd3r\n",
        "import hashlib\n",
        "\n",
        "pilot, record_time = ranking(piloto_tiempos)\n",
        "pwd = hashlib.sha256((str(pilot)+str(record_time)).encode())\n",
        "#print(pwd.hexdigest())\n",
        "if pwd.hexdigest()[0:6] == 'c3eede':\n",
        "  print('¡Felicidades! puedes avanzar al siguiente modulo \\n El token es: ',pwd.hexdigest())\n",
        "else:\n",
        "  print('Hay algún error en el código o tu forma es diferente a la planteada, pregunta por el foro si no lo ves claro.')"
      ],
      "metadata": {
        "colab": {
          "base_uri": "https://localhost:8080/"
        },
        "id": "2Xvr_fq2zyyQ",
        "outputId": "f0ea47e9-58ce-4041-adb7-433ad3219fe4"
      },
      "execution_count": null,
      "outputs": [
        {
          "output_type": "stream",
          "name": "stdout",
          "text": [
            "¡Felicidades! puedes avanzar al siguiente modulo \n",
            " El token es:  c3eedec7ed288f8013fb55cbc2357b0e6f47e56fe81d4385f5339b9a5c1d893f\n"
          ]
        }
      ]
    }
  ]
}